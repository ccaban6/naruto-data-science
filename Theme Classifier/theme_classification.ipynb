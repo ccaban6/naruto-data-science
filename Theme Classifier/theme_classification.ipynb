{
 "cells": [
  {
   "cell_type": "code",
   "execution_count": 12,
   "metadata": {},
   "outputs": [],
   "source": [
    "import nltk\n",
    "from time import time\n",
    "import matplotlib.pyplot as plt\n",
    "import torch\n",
    "from glob import glob\n",
    "import pandas as pd"
   ]
  },
  {
   "cell_type": "code",
   "execution_count": 8,
   "metadata": {},
   "outputs": [
    {
     "name": "stderr",
     "output_type": "stream",
     "text": [
      "[nltk_data] Downloading package punkt to /home/ccaban/nltk_data...\n",
      "[nltk_data]   Package punkt is already up-to-date!\n"
     ]
    },
    {
     "data": {
      "text/plain": [
       "True"
      ]
     },
     "execution_count": 8,
     "metadata": {},
     "output_type": "execute_result"
    }
   ],
   "source": [
    "nltk.download('punkt')"
   ]
  },
  {
   "cell_type": "markdown",
   "metadata": {},
   "source": [
    "## Load Dataset"
   ]
  },
  {
   "cell_type": "code",
   "execution_count": 9,
   "metadata": {},
   "outputs": [],
   "source": [
    "subtitles_paths = sorted(glob('../data/Subtitles/*.ass'))"
   ]
  },
  {
   "cell_type": "code",
   "execution_count": 10,
   "metadata": {},
   "outputs": [],
   "source": [
    "scripts = []\n",
    "episode_num = []\n",
    "for path in subtitles_paths:\n",
    "    with open(path, 'r') as file:\n",
    "        lines = file.readlines()\n",
    "        lines = lines[27:]\n",
    "        rows = [\",\".join(line.split(',')[9:]) for line in lines]\n",
    "    rows = [line.replace(\"\\\\N\", ' ') for line in rows]\n",
    "    script = \" \".join(rows)\n",
    "    episode = int(path.split('-')[1].split('.')[0].strip())\n",
    "    scripts.append(script)\n",
    "    episode_num.append(episode)"
   ]
  },
  {
   "cell_type": "code",
   "execution_count": 13,
   "metadata": {},
   "outputs": [
    {
     "data": {
      "text/html": [
       "<div>\n",
       "<style scoped>\n",
       "    .dataframe tbody tr th:only-of-type {\n",
       "        vertical-align: middle;\n",
       "    }\n",
       "\n",
       "    .dataframe tbody tr th {\n",
       "        vertical-align: top;\n",
       "    }\n",
       "\n",
       "    .dataframe thead th {\n",
       "        text-align: right;\n",
       "    }\n",
       "</style>\n",
       "<table border=\"1\" class=\"dataframe\">\n",
       "  <thead>\n",
       "    <tr style=\"text-align: right;\">\n",
       "      <th></th>\n",
       "      <th>episode</th>\n",
       "      <th>script</th>\n",
       "    </tr>\n",
       "  </thead>\n",
       "  <tbody>\n",
       "    <tr>\n",
       "      <th>0</th>\n",
       "      <td>1</td>\n",
       "      <td>A long time ago, a powerful demon fox appeared...</td>\n",
       "    </tr>\n",
       "    <tr>\n",
       "      <th>1</th>\n",
       "      <td>2</td>\n",
       "      <td>C'mon!\\n Running like a fugitive,\\n Being chas...</td>\n",
       "    </tr>\n",
       "    <tr>\n",
       "      <th>2</th>\n",
       "      <td>3</td>\n",
       "      <td>C'mon!\\n Running like a fugitive,\\n Being chas...</td>\n",
       "    </tr>\n",
       "    <tr>\n",
       "      <th>3</th>\n",
       "      <td>4</td>\n",
       "      <td>C'mon!\\n Running like a fugitive,\\n Being chas...</td>\n",
       "    </tr>\n",
       "    <tr>\n",
       "      <th>4</th>\n",
       "      <td>5</td>\n",
       "      <td>C'mon!\\n Running like a fugitive,\\n Being chas...</td>\n",
       "    </tr>\n",
       "  </tbody>\n",
       "</table>\n",
       "</div>"
      ],
      "text/plain": [
       "   episode                                             script\n",
       "0        1  A long time ago, a powerful demon fox appeared...\n",
       "1        2  C'mon!\\n Running like a fugitive,\\n Being chas...\n",
       "2        3  C'mon!\\n Running like a fugitive,\\n Being chas...\n",
       "3        4  C'mon!\\n Running like a fugitive,\\n Being chas...\n",
       "4        5  C'mon!\\n Running like a fugitive,\\n Being chas..."
      ]
     },
     "execution_count": 13,
     "metadata": {},
     "output_type": "execute_result"
    }
   ],
   "source": [
    "df = pd.DataFrame.from_dict({'episode': episode_num, 'script': scripts})\n",
    "df.head()"
   ]
  },
  {
   "cell_type": "markdown",
   "metadata": {},
   "source": [
    "## Load Model"
   ]
  },
  {
   "cell_type": "code",
   "execution_count": 14,
   "metadata": {},
   "outputs": [],
   "source": [
    "device = 0 if torch.cuda.is_available() else 'cpu'"
   ]
  },
  {
   "cell_type": "code",
   "execution_count": 17,
   "metadata": {},
   "outputs": [
    {
     "data": {
      "application/vnd.jupyter.widget-view+json": {
       "model_id": "8180ec1d32914a18ab1bd5740602497f",
       "version_major": 2,
       "version_minor": 0
      },
      "text/plain": [
       "config.json:   0%|          | 0.00/1.15k [00:00<?, ?B/s]"
      ]
     },
     "metadata": {},
     "output_type": "display_data"
    },
    {
     "data": {
      "application/vnd.jupyter.widget-view+json": {
       "model_id": "f6adab9d5a7b49a29793037eb0eb8a7a",
       "version_major": 2,
       "version_minor": 0
      },
      "text/plain": [
       "model.safetensors:   0%|          | 0.00/1.63G [00:00<?, ?B/s]"
      ]
     },
     "metadata": {},
     "output_type": "display_data"
    },
    {
     "data": {
      "application/vnd.jupyter.widget-view+json": {
       "model_id": "f16fbea7cf734cfeb91c8c3579009f25",
       "version_major": 2,
       "version_minor": 0
      },
      "text/plain": [
       "tokenizer_config.json:   0%|          | 0.00/26.0 [00:00<?, ?B/s]"
      ]
     },
     "metadata": {},
     "output_type": "display_data"
    },
    {
     "data": {
      "application/vnd.jupyter.widget-view+json": {
       "model_id": "9bd0705de9aa430bbcb2c418ec70d85d",
       "version_major": 2,
       "version_minor": 0
      },
      "text/plain": [
       "vocab.json:   0%|          | 0.00/899k [00:00<?, ?B/s]"
      ]
     },
     "metadata": {},
     "output_type": "display_data"
    },
    {
     "data": {
      "application/vnd.jupyter.widget-view+json": {
       "model_id": "7389e20e04b64141ae80a38e51cff8a3",
       "version_major": 2,
       "version_minor": 0
      },
      "text/plain": [
       "merges.txt:   0%|          | 0.00/456k [00:00<?, ?B/s]"
      ]
     },
     "metadata": {},
     "output_type": "display_data"
    },
    {
     "data": {
      "application/vnd.jupyter.widget-view+json": {
       "model_id": "d3d30cb4c75b4d2fa0b5cede422a1f15",
       "version_major": 2,
       "version_minor": 0
      },
      "text/plain": [
       "tokenizer.json:   0%|          | 0.00/1.36M [00:00<?, ?B/s]"
      ]
     },
     "metadata": {},
     "output_type": "display_data"
    },
    {
     "name": "stderr",
     "output_type": "stream",
     "text": [
      "Device set to use cuda:0\n"
     ]
    }
   ],
   "source": [
    "from transformers import pipeline\n",
    "theme_classifier = pipeline(\"zero-shot-classification\", model=\"facebook/bart-large-mnli\", device=device)"
   ]
  },
  {
   "cell_type": "code",
   "execution_count": 18,
   "metadata": {},
   "outputs": [
    {
     "data": {
      "text/plain": [
       "{'sequence': 'I have a problem with my iphone that needs to be resolved asap!',\n",
       " 'labels': ['urgent', 'phone', 'computer', 'not urgent', 'tablet'],\n",
       " 'scores': [0.5227581858634949,\n",
       "  0.4581397771835327,\n",
       "  0.014264918863773346,\n",
       "  0.002685003448277712,\n",
       "  0.002152077853679657]}"
      ]
     },
     "execution_count": 18,
     "metadata": {},
     "output_type": "execute_result"
    }
   ],
   "source": [
    "theme_classifier(\"I have a problem with my iphone that needs to be resolved asap!\", candidate_labels=[\"urgent\", \"not urgent\", \"phone\", \"tablet\", \"computer\"], multi_label=False)"
   ]
  },
  {
   "cell_type": "markdown",
   "metadata": {},
   "source": [
    "## Inference"
   ]
  },
  {
   "cell_type": "code",
   "execution_count": 29,
   "metadata": {},
   "outputs": [],
   "source": [
    "from nltk import sent_tokenize\n",
    "import numpy as np\n",
    "\n",
    "def get_themes(script):\n",
    "    script_sentences = sent_tokenize(script)\n",
    "\n",
    "    # Batch sentences\n",
    "    script_batches = []\n",
    "    sentence_batch_size = 20\n",
    "    for index in range(0, len(script_sentences), sentence_batch_size):\n",
    "        script_batches.append(\" \".join(script_sentences[index:index + sentence_batch_size]))\n",
    "    \n",
    "    # Run Model\n",
    "    candidate_labels = [\"friendship\", \"hope\", \"sacrifice\", \"battle\", \"self development\", \"betrayal\", \"love\", \"dialogue\"]\n",
    "    emotion_output = theme_classifier(script_batches, candidate_labels=candidate_labels, multi_label=True)\n",
    "\n",
    "    # Wrangle Output\n",
    "    emotions = {}\n",
    "    for output in emotion_output:\n",
    "        for label, score in zip(output['labels'], output['scores']):\n",
    "            if label not in emotions:\n",
    "                emotions[label] = []\n",
    "            else:\n",
    "                emotions[label].append(score)\n",
    "    emotions = {key: np.mean(np.array(value)) for key, value in emotions.items()}\n",
    "\n",
    "    return emotions"
   ]
  },
  {
   "cell_type": "code",
   "execution_count": 30,
   "metadata": {},
   "outputs": [],
   "source": [
    "output_emotions = df['script'].apply(get_themes)"
   ]
  },
  {
   "cell_type": "code",
   "execution_count": 32,
   "metadata": {},
   "outputs": [
    {
     "data": {
      "text/html": [
       "<div>\n",
       "<style scoped>\n",
       "    .dataframe tbody tr th:only-of-type {\n",
       "        vertical-align: middle;\n",
       "    }\n",
       "\n",
       "    .dataframe tbody tr th {\n",
       "        vertical-align: top;\n",
       "    }\n",
       "\n",
       "    .dataframe thead th {\n",
       "        text-align: right;\n",
       "    }\n",
       "</style>\n",
       "<table border=\"1\" class=\"dataframe\">\n",
       "  <thead>\n",
       "    <tr style=\"text-align: right;\">\n",
       "      <th></th>\n",
       "      <th>dialogue</th>\n",
       "      <th>betrayal</th>\n",
       "      <th>battle</th>\n",
       "      <th>sacrifice</th>\n",
       "      <th>self development</th>\n",
       "      <th>hope</th>\n",
       "      <th>friendship</th>\n",
       "      <th>love</th>\n",
       "    </tr>\n",
       "  </thead>\n",
       "  <tbody>\n",
       "    <tr>\n",
       "      <th>0</th>\n",
       "      <td>0.929708</td>\n",
       "      <td>0.836561</td>\n",
       "      <td>0.721848</td>\n",
       "      <td>0.739128</td>\n",
       "      <td>0.790847</td>\n",
       "      <td>0.368039</td>\n",
       "      <td>0.285855</td>\n",
       "      <td>0.180347</td>\n",
       "    </tr>\n",
       "    <tr>\n",
       "      <th>1</th>\n",
       "      <td>0.875023</td>\n",
       "      <td>0.559288</td>\n",
       "      <td>0.627566</td>\n",
       "      <td>0.557175</td>\n",
       "      <td>0.743586</td>\n",
       "      <td>0.365536</td>\n",
       "      <td>0.209769</td>\n",
       "      <td>0.109749</td>\n",
       "    </tr>\n",
       "    <tr>\n",
       "      <th>2</th>\n",
       "      <td>0.908166</td>\n",
       "      <td>0.598867</td>\n",
       "      <td>0.694666</td>\n",
       "      <td>0.708142</td>\n",
       "      <td>0.729209</td>\n",
       "      <td>0.357725</td>\n",
       "      <td>0.338572</td>\n",
       "      <td>0.223328</td>\n",
       "    </tr>\n",
       "    <tr>\n",
       "      <th>3</th>\n",
       "      <td>0.685411</td>\n",
       "      <td>0.316458</td>\n",
       "      <td>0.627644</td>\n",
       "      <td>0.469560</td>\n",
       "      <td>0.478200</td>\n",
       "      <td>0.208440</td>\n",
       "      <td>0.083990</td>\n",
       "      <td>0.103677</td>\n",
       "    </tr>\n",
       "    <tr>\n",
       "      <th>4</th>\n",
       "      <td>0.813044</td>\n",
       "      <td>0.668059</td>\n",
       "      <td>0.749821</td>\n",
       "      <td>0.708210</td>\n",
       "      <td>0.662926</td>\n",
       "      <td>0.315102</td>\n",
       "      <td>0.249769</td>\n",
       "      <td>0.115046</td>\n",
       "    </tr>\n",
       "  </tbody>\n",
       "</table>\n",
       "</div>"
      ],
      "text/plain": [
       "   dialogue  betrayal    battle  sacrifice  self development      hope  \\\n",
       "0  0.929708  0.836561  0.721848   0.739128          0.790847  0.368039   \n",
       "1  0.875023  0.559288  0.627566   0.557175          0.743586  0.365536   \n",
       "2  0.908166  0.598867  0.694666   0.708142          0.729209  0.357725   \n",
       "3  0.685411  0.316458  0.627644   0.469560          0.478200  0.208440   \n",
       "4  0.813044  0.668059  0.749821   0.708210          0.662926  0.315102   \n",
       "\n",
       "   friendship      love  \n",
       "0    0.285855  0.180347  \n",
       "1    0.209769  0.109749  \n",
       "2    0.338572  0.223328  \n",
       "3    0.083990  0.103677  \n",
       "4    0.249769  0.115046  "
      ]
     },
     "execution_count": 32,
     "metadata": {},
     "output_type": "execute_result"
    }
   ],
   "source": [
    "emotion_df = pd.DataFrame(output_emotions.tolist())\n",
    "emotion_df.head()"
   ]
  },
  {
   "cell_type": "code",
   "execution_count": 33,
   "metadata": {},
   "outputs": [],
   "source": [
    "df[emotion_df.columns] = emotion_df"
   ]
  },
  {
   "cell_type": "code",
   "execution_count": 36,
   "metadata": {},
   "outputs": [
    {
     "data": {
      "text/html": [
       "<div>\n",
       "<style scoped>\n",
       "    .dataframe tbody tr th:only-of-type {\n",
       "        vertical-align: middle;\n",
       "    }\n",
       "\n",
       "    .dataframe tbody tr th {\n",
       "        vertical-align: top;\n",
       "    }\n",
       "\n",
       "    .dataframe thead th {\n",
       "        text-align: right;\n",
       "    }\n",
       "</style>\n",
       "<table border=\"1\" class=\"dataframe\">\n",
       "  <thead>\n",
       "    <tr style=\"text-align: right;\">\n",
       "      <th></th>\n",
       "      <th>theme</th>\n",
       "      <th>score</th>\n",
       "    </tr>\n",
       "  </thead>\n",
       "  <tbody>\n",
       "    <tr>\n",
       "      <th>0</th>\n",
       "      <td>betrayal</td>\n",
       "      <td>123.582282</td>\n",
       "    </tr>\n",
       "    <tr>\n",
       "      <th>1</th>\n",
       "      <td>battle</td>\n",
       "      <td>154.016707</td>\n",
       "    </tr>\n",
       "    <tr>\n",
       "      <th>2</th>\n",
       "      <td>sacrifice</td>\n",
       "      <td>155.469732</td>\n",
       "    </tr>\n",
       "    <tr>\n",
       "      <th>3</th>\n",
       "      <td>self development</td>\n",
       "      <td>143.148466</td>\n",
       "    </tr>\n",
       "    <tr>\n",
       "      <th>4</th>\n",
       "      <td>hope</td>\n",
       "      <td>88.210768</td>\n",
       "    </tr>\n",
       "    <tr>\n",
       "      <th>5</th>\n",
       "      <td>friendship</td>\n",
       "      <td>74.279722</td>\n",
       "    </tr>\n",
       "    <tr>\n",
       "      <th>6</th>\n",
       "      <td>love</td>\n",
       "      <td>44.489095</td>\n",
       "    </tr>\n",
       "  </tbody>\n",
       "</table>\n",
       "</div>"
      ],
      "text/plain": [
       "              theme       score\n",
       "0          betrayal  123.582282\n",
       "1            battle  154.016707\n",
       "2         sacrifice  155.469732\n",
       "3  self development  143.148466\n",
       "4              hope   88.210768\n",
       "5        friendship   74.279722\n",
       "6              love   44.489095"
      ]
     },
     "execution_count": 36,
     "metadata": {},
     "output_type": "execute_result"
    }
   ],
   "source": [
    "theme_output = df.drop(['episode', 'script', 'dialogue'], axis=1).sum().reset_index()\n",
    "theme_output.columns = ['theme', 'score']\n",
    "theme_output"
   ]
  },
  {
   "cell_type": "code",
   "execution_count": 39,
   "metadata": {},
   "outputs": [
    {
     "data": {
      "image/png": "[encoded data removed]",
      "text/plain": [
       "<Figure size 640x480 with 1 Axes>"
      ]
     },
     "metadata": {},
     "output_type": "display_data"
    }
   ],
   "source": [
    "import seaborn as sns\n",
    "sns.barplot(data=theme_output, x='theme', y='score')\n",
    "plt.xticks(rotation=45)\n",
    "plt.show()"
   ]
  }
 ],
 "metadata": {
  "kernelspec": {
   "display_name": "Python 3 (ipykernel)",
   "language": "python",
   "name": "python3"
  },
  "language_info": {
   "codemirror_mode": {
    "name": "ipython",
    "version": 3
   },
   "file_extension": ".py",
   "mimetype": "text/x-python",
   "name": "python",
   "nbconvert_exporter": "python",
   "pygments_lexer": "ipython3",
   "version": "3.12.3"
  }
 },
 "nbformat": 4,
 "nbformat_minor": 2
}
